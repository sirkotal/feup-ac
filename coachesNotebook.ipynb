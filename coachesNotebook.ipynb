{
 "cells": [
  {
   "cell_type": "code",
   "execution_count": null,
   "metadata": {},
   "outputs": [
    {
     "name": "stdout",
     "output_type": "stream",
     "text": [
      "coachID                 0\n",
      "year                    0\n",
      "tmID                    0\n",
      "Win Rate               12\n",
      "Cumulative Win Rate     0\n",
      "dtype: int64\n"
     ]
    },
    {
     "name": "stderr",
     "output_type": "stream",
     "text": [
      "C:\\Users\\JoaoCoutinho\\AppData\\Local\\Temp\\ipykernel_9264\\751024778.py:25: DeprecationWarning: DataFrameGroupBy.apply operated on the grouping columns. This behavior is deprecated, and in a future version of pandas the grouping columns will be excluded from the operation. Either pass `include_groups=False` to exclude the groupings or explicitly select the grouping columns after groupby to silence this warning.\n",
      "  stats_df_coaches = stats_df_coaches.groupby('coachID').apply(calculate_cumulative_win_rate).reset_index(drop=True)\n",
      "C:\\Users\\JoaoCoutinho\\AppData\\Local\\Temp\\ipykernel_9264\\751024778.py:33: DeprecationWarning: DataFrameGroupBy.apply operated on the grouping columns. This behavior is deprecated, and in a future version of pandas the grouping columns will be excluded from the operation. Either pass `include_groups=False` to exclude the groupings or explicitly select the grouping columns after groupby to silence this warning.\n",
      "  df_teams['Cumulative Win Rate'] = df_teams.groupby('tmID', group_keys=False).apply(lambda group: group.sort_values(\"year\")['Cumulative Win Rate'].shift(-1))\n"
     ]
    }
   ],
   "source": [
    "# Imports\n",
    "import pandas as pd\n",
    "import numpy as np\n",
    "\n",
    "stats_df_coaches = pd.read_csv('dataset/processed/coaches_processed.csv')\n",
    "stats_df_coaches = stats_df_coaches[stats_df_coaches['stint'] <= 1].drop(\"stint\", axis=1)\n",
    "\n",
    "stats_df_coaches[\"Win Rate\"] = np.where(\n",
    "    (stats_df_coaches['post_wins'] == 0) & (stats_df_coaches['post_losses'] == 0),\n",
    "    stats_df_coaches['won'] / (stats_df_coaches['won'] + stats_df_coaches['lost']),\n",
    "    ((stats_df_coaches['won'] + stats_df_coaches['post_wins']) / (stats_df_coaches['won'] + stats_df_coaches['lost'] + stats_df_coaches['post_wins'] + stats_df_coaches['post_losses']))\n",
    ")\n",
    "\n",
    "stats_df_coaches['Cumulative Win Rate'] = 0.0\n",
    "def calculate_cumulative_win_rate(group):\n",
    "    group.loc[group.index[0], 'Cumulative Win Rate'] = group.loc[group.index[0], 'Win Rate']\n",
    "    for i in range(1, len(group)):\n",
    "        group.loc[group.index[i], 'Cumulative Win Rate'] = (\n",
    "            group.loc[group.index[i], 'Win Rate'] * 0.5 + group.loc[group.index[i-1], 'Cumulative Win Rate'] * 0.5\n",
    "        )\n",
    "    group['Cumulative Win Rate'] = group['Cumulative Win Rate'].shift(1)\n",
    "    return group\n",
    "\n",
    "# Apply the function to each group of coachID\n",
    "stats_df_coaches = stats_df_coaches.groupby('coachID').apply(calculate_cumulative_win_rate).reset_index(drop=True)\n",
    "\n",
    "stats_df_coaches.drop(columns=['won', 'lost', 'post_wins', 'post_losses'], inplace=True) \n",
    "\n",
    "df_teams = pd.read_csv('dataset/processed/teams_test.csv')\n",
    "stats_df_coaches['Cumulative Win Rate'] = stats_df_coaches['Cumulative Win Rate'].fillna(stats_df_coaches['Cumulative Win Rate'].mean())\n",
    "stats_df_coaches= stats_df_coaches.drop_duplicates(subset=['tmID', 'year'], keep='first')\n",
    "df_teams = pd.merge(df_teams, stats_df_coaches, on=['tmID', 'year'], how='left')\n",
    "df_teams['Cumulative Win Rate'] = df_teams.groupby('tmID', group_keys=False).apply(lambda group: group.sort_values(\"year\")['Cumulative Win Rate'].shift(-1))\n",
    "df_teams['Cumulative Win Rate'] = df_teams['Cumulative Win Rate'].fillna(df_teams['Cumulative Win Rate'].mean())\n",
    "\n",
    "\n",
    "df_teams.to_csv('dataset/processed/teams_test.csv', index=False)\n",
    "stats_df_coaches.head()\n",
    "print(stats_df_coaches.isna().sum())\n"
   ]
  }
 ],
 "metadata": {
  "kernelspec": {
   "display_name": "Python 3",
   "language": "python",
   "name": "python3"
  },
  "language_info": {
   "codemirror_mode": {
    "name": "ipython",
    "version": 3
   },
   "file_extension": ".py",
   "mimetype": "text/x-python",
   "name": "python",
   "nbconvert_exporter": "python",
   "pygments_lexer": "ipython3",
   "version": "3.10.6"
  }
 },
 "nbformat": 4,
 "nbformat_minor": 2
}
