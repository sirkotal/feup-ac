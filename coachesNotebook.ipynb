{
 "cells": [
  {
   "cell_type": "code",
   "execution_count": null,
   "metadata": {},
   "outputs": [
    {
     "name": "stdout",
     "output_type": "stream",
     "text": [
      "       coachID              award  year\n",
      "8   coopemi01w  Coach of the Year     1\n",
      "9   hugheda99w  Coach of the Year     2\n",
      "10  stanlma99w  Coach of the Year     3\n",
      "11  laimbbi01w  Coach of the Year     4\n",
      "12  mcconsu01w  Coach of the Year     5\n",
      "13  whisejo99w  Coach of the Year     6\n",
      "14  thibami99w  Coach of the Year     7\n",
      "15  hugheda99w  Coach of the Year     8\n",
      "16  thibami99w  Coach of the Year     9\n",
      "17  meadoma99w  Coach of the Year    10\n",
      "        coachID  year tmID  Win Rate  Cumulative Win Rate  awards\n",
      "14   aglerbr99w    11  SEA       NaN             0.531397     0.0\n",
      "31   chatmda99w    11  CHI       NaN             0.510222     0.0\n",
      "63   dunnli99wc    11  IND       NaN             0.533553     0.0\n",
      "70   gaineco01w    11  PHO       NaN             0.568627     0.0\n",
      "72   gilloje01w    11  LAS       NaN             0.411765     0.0\n",
      "89   hugheda99w    11  SAS       NaN             0.494516     0.0\n",
      "95   laceytr99w    11  WAS       NaN             0.305147     0.0\n",
      "113  meadoma99w    11  ATL       NaN             0.308824     1.0\n",
      "119  reevech99w    11  MIN       NaN             0.510222     0.0\n",
      "120  richano99w    11  TUL       NaN             0.510222     0.0\n",
      "135  thibami99w    11  CON       NaN             0.534452     0.0\n",
      "143  whisejo99w    11  NYL       NaN             0.635680     0.0\n",
      "coachID                 0\n",
      "year                    0\n",
      "tmID                    0\n",
      "Win Rate               12\n",
      "Cumulative Win Rate     0\n",
      "awards                  1\n",
      "dtype: int64\n"
     ]
    },
    {
     "name": "stderr",
     "output_type": "stream",
     "text": [
      "C:\\Users\\JoaoCoutinho\\AppData\\Local\\Temp\\ipykernel_28236\\3761302155.py:27: DeprecationWarning: DataFrameGroupBy.apply operated on the grouping columns. This behavior is deprecated, and in a future version of pandas the grouping columns will be excluded from the operation. Either pass `include_groups=False` to exclude the groupings or explicitly select the grouping columns after groupby to silence this warning.\n",
      "  stats_df_coaches = stats_df_coaches.groupby('coachID').apply(calculate_cumulative_win_rate).reset_index(drop=True)\n",
      "C:\\Users\\JoaoCoutinho\\AppData\\Local\\Temp\\ipykernel_28236\\3761302155.py:52: DeprecationWarning: DataFrameGroupBy.apply operated on the grouping columns. This behavior is deprecated, and in a future version of pandas the grouping columns will be excluded from the operation. Either pass `include_groups=False` to exclude the groupings or explicitly select the grouping columns after groupby to silence this warning.\n",
      "  df_teams['Cumulative Win Rate'] = df_teams.groupby('tmID', group_keys=False).apply(lambda group: group.sort_values(\"year\")['Cumulative Win Rate'].shift(-1))\n"
     ]
    }
   ],
   "source": [
    "# Imports\n",
    "import pandas as pd\n",
    "import numpy as np\n",
    "\n",
    "stats_df_coaches = pd.read_csv('dataset/processed/coaches_processed.csv')\n",
    "df_awards = pd.read_csv('dataset/processed/awards_processed.csv')\n",
    "\n",
    "stats_df_coaches = stats_df_coaches[stats_df_coaches['stint'] <= 1].drop(\"stint\", axis=1)\n",
    "\n",
    "stats_df_coaches[\"Win Rate\"] = np.where(\n",
    "    (stats_df_coaches['post_wins'] == 0) & (stats_df_coaches['post_losses'] == 0),\n",
    "    stats_df_coaches['won'] / (stats_df_coaches['won'] + stats_df_coaches['lost']),\n",
    "    ((stats_df_coaches['won'] + stats_df_coaches['post_wins']) / (stats_df_coaches['won'] + stats_df_coaches['lost'] + stats_df_coaches['post_wins'] + stats_df_coaches['post_losses']))\n",
    ")\n",
    "\n",
    "stats_df_coaches['Cumulative Win Rate'] = 0.0\n",
    "def calculate_cumulative_win_rate(group):\n",
    "    group.loc[group.index[0], 'Cumulative Win Rate'] = group.loc[group.index[0], 'Win Rate']\n",
    "    for i in range(1, len(group)):\n",
    "        group.loc[group.index[i], 'Cumulative Win Rate'] = (\n",
    "            group.loc[group.index[i], 'Win Rate'] * 0.5 + group.loc[group.index[i-1], 'Cumulative Win Rate'] * 0.5\n",
    "        )\n",
    "    group['Cumulative Win Rate'] = group['Cumulative Win Rate'].shift(1)\n",
    "    return group\n",
    "\n",
    "# Apply the function to each group of coachID\n",
    "stats_df_coaches = stats_df_coaches.groupby('coachID').apply(calculate_cumulative_win_rate).reset_index(drop=True)\n",
    "relevant_awards = df_awards[df_awards['award'] == \"Coach of the Year\"]\n",
    "relevant_awards = relevant_awards.rename(columns={'playerID': 'coachID'})\n",
    "print(relevant_awards)\n",
    "award_counts = (\n",
    "    relevant_awards\n",
    "    .groupby(['coachID', 'year'])\n",
    "    .size()\n",
    "    .rename('awards')\n",
    "    .reset_index()\n",
    ")\n",
    "stats_df_coaches = stats_df_coaches.merge(\n",
    "    award_counts, \n",
    "    how='left', \n",
    "    on=['coachID', 'year'], \n",
    ")\n",
    "stats_df_coaches['awards'] = stats_df_coaches['awards'].fillna(0).astype(int)\n",
    "stats_df_coaches['awards'] = stats_df_coaches['awards'].shift(1)\n",
    "stats_df_coaches['Cumulative Win Rate'] = stats_df_coaches['Cumulative Win Rate'] + stats_df_coaches['awards']*0.005\n",
    "stats_df_coaches.drop(columns=['won', 'lost', 'post_wins', 'post_losses'], inplace=True) \n",
    "\n",
    "df_teams = pd.read_csv('dataset/processed/teams_test.csv')\n",
    "stats_df_coaches['Cumulative Win Rate'] = stats_df_coaches['Cumulative Win Rate'].fillna(stats_df_coaches['Cumulative Win Rate'].mean())\n",
    "stats_df_coaches= stats_df_coaches.drop_duplicates(subset=['tmID', 'year'], keep='first')\n",
    "df_teams = pd.merge(df_teams, stats_df_coaches, on=['tmID', 'year'], how='left')\n",
    "df_teams['Cumulative Win Rate'] = df_teams.groupby('tmID', group_keys=False).apply(lambda group: group.sort_values(\"year\")['Cumulative Win Rate'].shift(-1))\n",
    "df_teams['Cumulative Win Rate'] = df_teams['Cumulative Win Rate'].fillna(df_teams['Cumulative Win Rate'].mean())\n",
    "\n",
    "\n",
    "df_teams.to_csv('dataset/processed/teams_test.csv', index=False)\n",
    "print(stats_df_coaches[stats_df_coaches['year'] == 11])\n",
    "print(stats_df_coaches.isna().sum())\n"
   ]
  }
 ],
 "metadata": {
  "kernelspec": {
   "display_name": "Python 3",
   "language": "python",
   "name": "python3"
  },
  "language_info": {
   "codemirror_mode": {
    "name": "ipython",
    "version": 3
   },
   "file_extension": ".py",
   "mimetype": "text/x-python",
   "name": "python",
   "nbconvert_exporter": "python",
   "pygments_lexer": "ipython3",
   "version": "3.12.7"
  }
 },
 "nbformat": 4,
 "nbformat_minor": 2
}
