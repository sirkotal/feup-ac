{
 "cells": [
  {
   "cell_type": "code",
   "execution_count": 25,
   "metadata": {},
   "outputs": [
    {
     "name": "stdout",
     "output_type": "stream",
     "text": [
      "tmID  year\n",
      "ATL   9       0.317220\n",
      "      10      0.358332\n",
      "CHA   1       0.317736\n",
      "      2       0.249030\n",
      "      3       0.247860\n",
      "                ...   \n",
      "WAS   6       0.321513\n",
      "      7       0.318692\n",
      "      8       0.316441\n",
      "      9       0.294045\n",
      "      10      0.343763\n",
      "Name: Attacking Score, Length: 142, dtype: float64\n"
     ]
    }
   ],
   "source": [
    "# Imports\n",
    "import pandas as pd\n",
    "import numpy as np\n",
    "import math\n",
    "import matplotlib.pyplot as plt\n",
    "import seaborn as sb\n",
    "from sklearn.preprocessing import LabelEncoder\n",
    "from sklearn.model_selection import train_test_split\n",
    "from sklearn.metrics import ConfusionMatrixDisplay, accuracy_score, classification_report, confusion_matrix\n",
    "from sklearn.tree import DecisionTreeClassifier\n",
    "\n",
    "df_players = pd.read_csv('dataset/processed/players_teams_processed.csv')\n",
    "df_awards = pd.read_csv('dataset/processed/awards_processed.csv')\n",
    "\n",
    "stats_df_players = df_players[['playerID', 'year', 'tmID']].copy()\n",
    "\n",
    "stats_df_players['minutes'] = df_players['minutes'] + df_players['PostMinutes']\n",
    "\n",
    "#DROP PLAYERS THA DIDN't PLAY\n",
    "\n",
    "stats_df_players[\"Attacking Score\"] = np.where(\n",
    "    df_players['PostMinutes'] == 0,\n",
    "    df_players['points'] / df_players['minutes'],\n",
    "    np.where(\n",
    "        df_players['minutes'] == 0,\n",
    "        df_players['PostBlocks'] / df_players['PostMinutes'],\n",
    "        (df_players['points'] / df_players['minutes']) * 0.4 + (df_players['PostPoints'] / df_players['PostMinutes']) * 0.6\n",
    "    )\n",
    ")\n",
    "\n",
    "stats_df_players[\"Defensive Score\"] = np.where(\n",
    "    df_players['PostMinutes'] == 0,\n",
    "    df_players['blocks'] / df_players['minutes'],\n",
    "    np.where(\n",
    "        df_players['minutes'] == 0,\n",
    "        df_players['PostBlocks'] / df_players['PostMinutes'],\n",
    "        (df_players['blocks'] / df_players['minutes']) * 0.4 + (df_players['PostBlocks'] / df_players['PostMinutes']) * 0.6\n",
    "    )\n",
    ")\n",
    "\n",
    "awards_count = df_awards.groupby(['playerID', 'year']).size().reset_index(name='Awards Count')\n",
    "stats_df_players = awards_count.merge(stats_df_players, how=\"outer\", on=[\"playerID\", \"year\"])\n",
    "\n",
    "stats_df_players[\"Awards Count\"] = stats_df_players[\"Awards Count\"].fillna(0)\n",
    "\n",
    "#stats_df_players.dropna(axis=0, how='any', inplace=True)\n",
    "#stats_df_players.isna().sum()\n",
    "\n",
    "#gajos com 0 minutos\n",
    "#df_players.loc[df_players['minutes'] <= 0, ['minutes', 'PostMinutes']]\n",
    "\n"
   ]
  }
 ],
 "metadata": {
  "kernelspec": {
   "display_name": "Python 3",
   "language": "python",
   "name": "python3"
  },
  "language_info": {
   "codemirror_mode": {
    "name": "ipython",
    "version": 3
   },
   "file_extension": ".py",
   "mimetype": "text/x-python",
   "name": "python",
   "nbconvert_exporter": "python",
   "pygments_lexer": "ipython3",
   "version": "3.12.7"
  }
 },
 "nbformat": 4,
 "nbformat_minor": 2
}
