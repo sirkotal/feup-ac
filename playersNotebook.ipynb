{
 "cells": [
  {
   "cell_type": "code",
   "execution_count": 9,
   "metadata": {},
   "outputs": [
    {
     "ename": "ValueError",
     "evalue": "Can only compare identically-labeled Series objects",
     "output_type": "error",
     "traceback": [
      "\u001b[1;31m---------------------------------------------------------------------------\u001b[0m",
      "\u001b[1;31mValueError\u001b[0m                                Traceback (most recent call last)",
      "Cell \u001b[1;32mIn[9], line 55\u001b[0m\n\u001b[0;32m     50\u001b[0m stats_df_players\u001b[38;5;241m.\u001b[39mhead()\n\u001b[0;32m     52\u001b[0m df_teams \u001b[38;5;241m=\u001b[39m pd\u001b[38;5;241m.\u001b[39mread_csv(\u001b[38;5;124m'\u001b[39m\u001b[38;5;124mdataset/processed/teams_processed.csv\u001b[39m\u001b[38;5;124m'\u001b[39m)\n\u001b[0;32m     54\u001b[0m df_teams[\u001b[38;5;124m\"\u001b[39m\u001b[38;5;124mAttacking Score\u001b[39m\u001b[38;5;124m\"\u001b[39m] \u001b[38;5;241m=\u001b[39m stats_df_players\u001b[38;5;241m.\u001b[39mloc[\n\u001b[1;32m---> 55\u001b[0m     (\u001b[43mstats_df_players\u001b[49m\u001b[43m[\u001b[49m\u001b[38;5;124;43m'\u001b[39;49m\u001b[38;5;124;43mtmID\u001b[39;49m\u001b[38;5;124;43m'\u001b[39;49m\u001b[43m]\u001b[49m\u001b[43m \u001b[49m\u001b[38;5;241;43m==\u001b[39;49m\u001b[43m \u001b[49m\u001b[43mdf_teams\u001b[49m\u001b[43m[\u001b[49m\u001b[38;5;124;43m'\u001b[39;49m\u001b[38;5;124;43mtmID\u001b[39;49m\u001b[38;5;124;43m'\u001b[39;49m\u001b[43m]\u001b[49m) \u001b[38;5;241m&\u001b[39m \n\u001b[0;32m     56\u001b[0m     (stats_df_players[\u001b[38;5;124m'\u001b[39m\u001b[38;5;124myear\u001b[39m\u001b[38;5;124m'\u001b[39m] \u001b[38;5;241m==\u001b[39m df_teams[\u001b[38;5;124m'\u001b[39m\u001b[38;5;124myear\u001b[39m\u001b[38;5;124m'\u001b[39m])\n\u001b[0;32m     57\u001b[0m ]\u001b[38;5;241m.\u001b[39mgroupby([\u001b[38;5;124m'\u001b[39m\u001b[38;5;124mtmID\u001b[39m\u001b[38;5;124m'\u001b[39m, \u001b[38;5;124m'\u001b[39m\u001b[38;5;124myear\u001b[39m\u001b[38;5;124m'\u001b[39m])[\u001b[38;5;124m'\u001b[39m\u001b[38;5;124mAttacking Score\u001b[39m\u001b[38;5;124m'\u001b[39m]\u001b[38;5;241m.\u001b[39mmean()\n\u001b[0;32m     59\u001b[0m df_teams\u001b[38;5;241m.\u001b[39mhead()\n\u001b[0;32m     60\u001b[0m \u001b[38;5;66;03m#df_teams[\"Defensive Score\"] = \u001b[39;00m\n\u001b[0;32m     61\u001b[0m \u001b[38;5;66;03m#df_teams[\"Awards Count\"] = \u001b[39;00m\n",
      "File \u001b[1;32mc:\\Users\\JoaoCoutinho\\AppData\\Local\\Programs\\Python\\Python312\\Lib\\site-packages\\pandas\\core\\ops\\common.py:76\u001b[0m, in \u001b[0;36m_unpack_zerodim_and_defer.<locals>.new_method\u001b[1;34m(self, other)\u001b[0m\n\u001b[0;32m     72\u001b[0m             \u001b[38;5;28;01mreturn\u001b[39;00m \u001b[38;5;28mNotImplemented\u001b[39m\n\u001b[0;32m     74\u001b[0m other \u001b[38;5;241m=\u001b[39m item_from_zerodim(other)\n\u001b[1;32m---> 76\u001b[0m \u001b[38;5;28;01mreturn\u001b[39;00m \u001b[43mmethod\u001b[49m\u001b[43m(\u001b[49m\u001b[38;5;28;43mself\u001b[39;49m\u001b[43m,\u001b[49m\u001b[43m \u001b[49m\u001b[43mother\u001b[49m\u001b[43m)\u001b[49m\n",
      "File \u001b[1;32mc:\\Users\\JoaoCoutinho\\AppData\\Local\\Programs\\Python\\Python312\\Lib\\site-packages\\pandas\\core\\arraylike.py:40\u001b[0m, in \u001b[0;36mOpsMixin.__eq__\u001b[1;34m(self, other)\u001b[0m\n\u001b[0;32m     38\u001b[0m \u001b[38;5;129m@unpack_zerodim_and_defer\u001b[39m(\u001b[38;5;124m\"\u001b[39m\u001b[38;5;124m__eq__\u001b[39m\u001b[38;5;124m\"\u001b[39m)\n\u001b[0;32m     39\u001b[0m \u001b[38;5;28;01mdef\u001b[39;00m \u001b[38;5;21m__eq__\u001b[39m(\u001b[38;5;28mself\u001b[39m, other):\n\u001b[1;32m---> 40\u001b[0m     \u001b[38;5;28;01mreturn\u001b[39;00m \u001b[38;5;28;43mself\u001b[39;49m\u001b[38;5;241;43m.\u001b[39;49m\u001b[43m_cmp_method\u001b[49m\u001b[43m(\u001b[49m\u001b[43mother\u001b[49m\u001b[43m,\u001b[49m\u001b[43m \u001b[49m\u001b[43moperator\u001b[49m\u001b[38;5;241;43m.\u001b[39;49m\u001b[43meq\u001b[49m\u001b[43m)\u001b[49m\n",
      "File \u001b[1;32mc:\\Users\\JoaoCoutinho\\AppData\\Local\\Programs\\Python\\Python312\\Lib\\site-packages\\pandas\\core\\series.py:6114\u001b[0m, in \u001b[0;36mSeries._cmp_method\u001b[1;34m(self, other, op)\u001b[0m\n\u001b[0;32m   6111\u001b[0m res_name \u001b[38;5;241m=\u001b[39m ops\u001b[38;5;241m.\u001b[39mget_op_result_name(\u001b[38;5;28mself\u001b[39m, other)\n\u001b[0;32m   6113\u001b[0m \u001b[38;5;28;01mif\u001b[39;00m \u001b[38;5;28misinstance\u001b[39m(other, Series) \u001b[38;5;129;01mand\u001b[39;00m \u001b[38;5;129;01mnot\u001b[39;00m \u001b[38;5;28mself\u001b[39m\u001b[38;5;241m.\u001b[39m_indexed_same(other):\n\u001b[1;32m-> 6114\u001b[0m     \u001b[38;5;28;01mraise\u001b[39;00m \u001b[38;5;167;01mValueError\u001b[39;00m(\u001b[38;5;124m\"\u001b[39m\u001b[38;5;124mCan only compare identically-labeled Series objects\u001b[39m\u001b[38;5;124m\"\u001b[39m)\n\u001b[0;32m   6116\u001b[0m lvalues \u001b[38;5;241m=\u001b[39m \u001b[38;5;28mself\u001b[39m\u001b[38;5;241m.\u001b[39m_values\n\u001b[0;32m   6117\u001b[0m rvalues \u001b[38;5;241m=\u001b[39m extract_array(other, extract_numpy\u001b[38;5;241m=\u001b[39m\u001b[38;5;28;01mTrue\u001b[39;00m, extract_range\u001b[38;5;241m=\u001b[39m\u001b[38;5;28;01mTrue\u001b[39;00m)\n",
      "\u001b[1;31mValueError\u001b[0m: Can only compare identically-labeled Series objects"
     ]
    }
   ],
   "source": [
    "# Imports\n",
    "import pandas as pd\n",
    "import numpy as np\n",
    "import math\n",
    "import matplotlib.pyplot as plt\n",
    "import seaborn as sb\n",
    "from sklearn.preprocessing import LabelEncoder\n",
    "from sklearn.model_selection import train_test_split\n",
    "from sklearn.metrics import ConfusionMatrixDisplay, accuracy_score, classification_report, confusion_matrix\n",
    "from sklearn.tree import DecisionTreeClassifier\n",
    "\n",
    "df_players = pd.read_csv('dataset/processed/players_teams_processed.csv')\n",
    "df_awards = pd.read_csv('dataset/processed/awards_processed.csv')\n",
    "\n",
    "stats_df_players = df_players[['playerID', 'year', 'tmID']].copy()\n",
    "\n",
    "stats_df_players['minutes'] = df_players['minutes'] + df_players['PostMinutes']\n",
    "\n",
    "stats_df_players[\"Attacking Score\"] = np.where(\n",
    "    df_players['PostMinutes'] == 0,\n",
    "    df_players['points'] / df_players['minutes'],\n",
    "    np.where(\n",
    "        df_players['minutes'] == 0,\n",
    "        df_players['PostBlocks'] / df_players['PostMinutes'],\n",
    "        (df_players['points'] / df_players['minutes']) * 0.4 + (df_players['PostPoints'] / df_players['PostMinutes']) * 0.6\n",
    "    )\n",
    ")\n",
    "\n",
    "stats_df_players[\"Defensive Score\"] = np.where(\n",
    "    df_players['PostMinutes'] == 0,\n",
    "    df_players['blocks'] / df_players['minutes'],\n",
    "    np.where(\n",
    "        df_players['minutes'] == 0,\n",
    "        df_players['PostBlocks'] / df_players['PostMinutes'],\n",
    "        (df_players['blocks'] / df_players['minutes']) * 0.4 + (df_players['PostBlocks'] / df_players['PostMinutes']) * 0.6\n",
    "    )\n",
    ")\n",
    "\n",
    "awards_count = df_awards.groupby(['playerID', 'year']).size().reset_index(name='awards_count')\n",
    "stats_df_players = awards_count.merge(stats_df_players, how=\"outer\", on=[\"playerID\", \"year\"])\n",
    "\n",
    "stats_df_players[\"Awards Count\"] = stats_df_players[\"awards_count\"].fillna(0)\n",
    "\n",
    "#stats_df_players.dropna(axis=0, how='any', inplace=True)\n",
    "#stats_df_players.isna().sum()\n",
    "\n",
    "#gajos com 0 minutos\n",
    "#df_players.loc[df_players['minutes'] <= 0, ['minutes', 'PostMinutes']]\n",
    "\n",
    "stats_df_players.head()\n",
    "\n",
    "df_teams = pd.read_csv('dataset/processed/teams_processed.csv')\n",
    "\n",
    "#df_teams[\"Attacking Score\"] = stats_df_players.loc[\n",
    "#    (stats_df_players['tmID'] == df_teams['tmID']) & \n",
    "#    (stats_df_players['year'] == df_teams['year'])\n",
    "#].groupby(['tmID', 'year'])['Attacking Score'].mean()\n",
    "\n",
    "df_teams.head()\n",
    "#df_teams[\"Defensive Score\"] = \n",
    "#df_teams[\"Awards Count\"] = \n",
    "\n"
   ]
  }
 ],
 "metadata": {
  "kernelspec": {
   "display_name": "Python 3",
   "language": "python",
   "name": "python3"
  },
  "language_info": {
   "codemirror_mode": {
    "name": "ipython",
    "version": 3
   },
   "file_extension": ".py",
   "mimetype": "text/x-python",
   "name": "python",
   "nbconvert_exporter": "python",
   "pygments_lexer": "ipython3",
   "version": "3.12.7"
  }
 },
 "nbformat": 4,
 "nbformat_minor": 2
}
