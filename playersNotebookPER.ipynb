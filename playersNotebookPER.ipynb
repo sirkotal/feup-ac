{
 "cells": [
  {
   "cell_type": "code",
   "execution_count": null,
   "metadata": {},
   "outputs": [
    {
     "name": "stdout",
     "output_type": "stream",
     "text": [
      "3.265326317555512\n"
     ]
    },
    {
     "name": "stderr",
     "output_type": "stream",
     "text": [
      "C:\\Users\\Utilizador\\AppData\\Local\\Temp\\ipykernel_3512\\62722225.py:49: SettingWithCopyWarning: \n",
      "A value is trying to be set on a copy of a slice from a DataFrame.\n",
      "Try using .loc[row_indexer,col_indexer] = value instead\n",
      "\n",
      "See the caveats in the documentation: https://pandas.pydata.org/pandas-docs/stable/user_guide/indexing.html#returning-a-view-versus-a-copy\n",
      "  stats_df_players[stats_df_players['minutes'] + stats_df_players['PostMinutes'] < 100]['PER'] = 0\n"
     ]
    }
   ],
   "source": [
    "# Imports\n",
    "import pandas as pd\n",
    "import numpy as np\n",
    "\n",
    "df_players = pd.read_csv('dataset/processed/players_teams_processed.csv')\n",
    "df_teams = pd.read_csv('dataset/processed/teams_processed.csv')\n",
    "df_awards = pd.read_csv('dataset/processed/awards_processed.csv')\n",
    "\n",
    "league_df_stats = pd.DataFrame()\n",
    "league_df_stats['lg_AST'] = df_teams.groupby('year')['o_asts'].sum().reset_index(drop=True)\n",
    "league_df_stats['lg_FG'] = df_teams.groupby('year')['o_fgm'].sum().reset_index(drop=True)\n",
    "league_df_stats['lg_FT'] = df_teams.groupby('year')['o_ftm'].sum().reset_index(drop=True)\n",
    "league_df_stats['lg_PTS'] = df_teams.groupby('year')['o_pts'].sum().reset_index(drop=True)\n",
    "league_df_stats['lg_FGA'] = df_teams.groupby('year')['o_fga'].sum().reset_index(drop=True)\n",
    "league_df_stats['lg_ORB'] = df_teams.groupby('year')['o_oreb'].sum().reset_index(drop=True)\n",
    "league_df_stats['lg_TOV'] = df_teams.groupby('year')['o_to'].sum().reset_index(drop=True) \n",
    "league_df_stats['lg_FTA'] = df_teams.groupby('year')['o_fta'].sum().reset_index(drop=True) \n",
    "league_df_stats['lg_TRB'] = df_teams.groupby('year')['o_reb'].sum().reset_index(drop=True) \n",
    "league_df_stats['lg_PF'] = df_teams.groupby('year')['o_pf'].sum().reset_index(drop=True) \n",
    "\n",
    "stats_df_players = pd.merge(df_players, df_teams, on=['tmID', 'year'], how='left')\n",
    "\n",
    "for i in range(10):\n",
    "  stats_df_players.loc[stats_df_players['year'] == i+1,'factor'] = (2/3) - (0.5* (league_df_stats['lg_AST'].iloc[i] / league_df_stats['lg_FG'].iloc[i])) / (2 * (league_df_stats['lg_FG'].iloc[i] / league_df_stats['lg_FT'].iloc[i]))\n",
    "  stats_df_players.loc[stats_df_players['year'] == i+1,'vop'] = league_df_stats['lg_PTS'].iloc[i] / (league_df_stats['lg_FGA'].iloc[i] - league_df_stats['lg_ORB'].iloc[i] + league_df_stats['lg_TOV'].iloc[i] + 0.44 * league_df_stats['lg_FTA'].iloc[i])\n",
    "  stats_df_players.loc[stats_df_players['year'] == i+1,'drb'] = (league_df_stats['lg_TRB'].iloc[i] - league_df_stats['lg_ORB'].iloc[i]) / league_df_stats['lg_TRB'].iloc[i]\n",
    "\n",
    "  stats_df_players.loc[stats_df_players['year'] == i+1,'PER'] = (\n",
    "    (1 / (df_players['minutes'] + df_players['PostMinutes'])).replace([np.inf, -np.inf, np.nan], 0) * \n",
    "    ((df_players['threeMade'] + df_players['PostthreeMade'])\n",
    "      +  (2 / 3) * (df_players['assists'] + df_players['PostAssists'])\n",
    "      +  (2 - stats_df_players['factor'] * (stats_df_players['o_asts'] / stats_df_players['o_fgm']).replace([np.inf, -np.inf, np.nan], 0)) * (stats_df_players['fgMade'] + stats_df_players['PostfgMade']) \n",
    "      +  ((stats_df_players['ftMade'] + stats_df_players['PostftMade']) * 0.5 * (1 + (1 - (stats_df_players['o_asts'] / stats_df_players['o_fgm']).replace([np.inf, -np.inf, np.nan], 0)) + (2 / 3) * (stats_df_players['o_asts'] / stats_df_players['o_fgm']).replace([np.inf, -np.inf, np.nan], 0))) \n",
    "      - stats_df_players['vop'] * (stats_df_players['turnovers'] + stats_df_players['PostTurnovers']) \n",
    "      - stats_df_players['vop'] * stats_df_players['drb'] * ((stats_df_players['fgAttempted'] + stats_df_players['PostfgAttempted']) - (stats_df_players['fgMade'] + stats_df_players['PostfgMade'])) \n",
    "      - stats_df_players['vop'] * 0.44 * (0.44 + (0.56 * stats_df_players['drb'])) * ((stats_df_players['ftAttempted'] + stats_df_players['PostftAttempted']) - (stats_df_players['ftMade'] + stats_df_players['PostftMade']))\n",
    "      + stats_df_players['vop'] * (1 - stats_df_players['drb']) * (stats_df_players['rebounds'] - stats_df_players['oRebounds'])\n",
    "      + stats_df_players['vop'] * stats_df_players['drb'] * stats_df_players['oRebounds']\n",
    "      + stats_df_players['vop'] * (stats_df_players['steals'] * stats_df_players['PostSteals'])\n",
    "      + stats_df_players['vop'] * stats_df_players['drb'] * (stats_df_players['blocks'] * stats_df_players['PostBlocks'])\n",
    "      - (stats_df_players['PF'] + stats_df_players['PostPF']) * ((league_df_stats['lg_FT'].iloc[i] / league_df_stats['lg_PF'].iloc[i]) - 0.44 * (league_df_stats['lg_FTA'].iloc[i] / league_df_stats['lg_PF'].iloc[i]) * stats_df_players['vop'])\n",
    "    )\n",
    ")\n",
    "minimumPer = -stats_df_players['PER'].min()\n",
    "stats_df_players['PER'] = stats_df_players['PER'] + minimumPer + 1\n",
    "stats_df_players['PER'] = stats_df_players.groupby('playerID', group_keys=False)['PER'].shift(1)\n",
    "#CUMULATIVE PER\n",
    "stats_df_players[stats_df_players['minutes'] + stats_df_players['PostMinutes'] < 100]['PER'] = 0\n",
    "\n",
    "team_stats = (\n",
    "    stats_df_players\n",
    "    .sort_values(by=['tmID', 'year', 'PER'], ascending=[True, True, False])  # Sort within groups\n",
    "    .groupby(['tmID', 'year'])  # Group by team ID and year\n",
    "    .head(5)  # Take the top 5 players per team and year\n",
    "    .groupby(['tmID', 'year'])['PER']  # Group again for PER calculation\n",
    "    .mean()  # Calculate the mean of PER for the top 10 players\n",
    "    .reset_index()  # Reset index for the result\n",
    ")\n",
    "team_stats['PER'] = team_stats.groupby('tmID', group_keys=False)['PER'].shift(-1)\n",
    "team_stats['PER'] = team_stats['PER'].fillna(team_stats['PER'].mean())\n",
    "print(team_stats['PER'].mean())\n",
    "\n",
    "df_teams = pd.merge(df_teams, team_stats, on=['tmID', 'year'], how='left')\n",
    "df_teams.to_csv('dataset/processed/teams_test.csv', index=False)\n",
    "\n",
    "\n",
    "# Display the sorted DataFrame\n",
    "\n"
   ]
  }
 ],
 "metadata": {
  "kernelspec": {
   "display_name": "Python 3",
   "language": "python",
   "name": "python3"
  },
  "language_info": {
   "codemirror_mode": {
    "name": "ipython",
    "version": 3
   },
   "file_extension": ".py",
   "mimetype": "text/x-python",
   "name": "python",
   "nbconvert_exporter": "python",
   "pygments_lexer": "ipython3",
   "version": "3.10.6"
  }
 },
 "nbformat": 4,
 "nbformat_minor": 2
}
