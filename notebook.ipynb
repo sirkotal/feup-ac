{
 "cells": [
  {
   "cell_type": "markdown",
   "metadata": {},
   "source": [
    "# Basketball Playoffs"
   ]
  },
  {
   "cell_type": "markdown",
   "metadata": {},
   "source": [
    "Basketball tournaments are usually split in two parts. First, all teams play each other aiming to achieve the greatest number of wins possible. Then, at the end of the first part of the season, a pre determined number of teams which were able to win the most games are qualified to the playoff season, where they play series of knock-out matches for the trophy."
   ]
  },
  {
   "cell_type": "markdown",
   "metadata": {},
   "source": [
    "For the 10 years, data from players, teams, coaches, games and several other metrics were gathered and arranged on this dataset. The goal is to use this data to predict which teams will qualify for the playoffs in the next season."
   ]
  },
  {
   "cell_type": "code",
   "execution_count": 3,
   "metadata": {},
   "outputs": [],
   "source": [
    "# Imports\n",
    "import pandas as pd\n",
    "import math\n",
    "import matplotlib.pyplot as plt\n",
    "import seaborn as sb\n",
    "from sklearn.preprocessing import LabelEncoder\n",
    "from sklearn.model_selection import train_test_split\n",
    "from sklearn.metrics import ConfusionMatrixDisplay, accuracy_score, classification_report, confusion_matrix"
   ]
  },
  {
   "cell_type": "markdown",
   "metadata": {},
   "source": [
    "## Data Preprocess"
   ]
  },
  {
   "cell_type": "markdown",
   "metadata": {},
   "source": [
    "## Exploratory Data Analysis"
   ]
  },
  {
   "cell_type": "code",
   "execution_count": 4,
   "metadata": {},
   "outputs": [
    {
     "data": {
      "text/html": [
       "<div>\n",
       "<style scoped>\n",
       "    .dataframe tbody tr th:only-of-type {\n",
       "        vertical-align: middle;\n",
       "    }\n",
       "\n",
       "    .dataframe tbody tr th {\n",
       "        vertical-align: top;\n",
       "    }\n",
       "\n",
       "    .dataframe thead th {\n",
       "        text-align: right;\n",
       "    }\n",
       "</style>\n",
       "<table border=\"1\" class=\"dataframe\">\n",
       "  <thead>\n",
       "    <tr style=\"text-align: right;\">\n",
       "      <th></th>\n",
       "      <th>year</th>\n",
       "      <th>lgID</th>\n",
       "      <th>tmID</th>\n",
       "      <th>franchID</th>\n",
       "      <th>confID</th>\n",
       "      <th>divID</th>\n",
       "      <th>rank</th>\n",
       "      <th>playoff</th>\n",
       "      <th>seeded</th>\n",
       "      <th>firstRound</th>\n",
       "      <th>...</th>\n",
       "      <th>GP</th>\n",
       "      <th>homeW</th>\n",
       "      <th>homeL</th>\n",
       "      <th>awayW</th>\n",
       "      <th>awayL</th>\n",
       "      <th>confW</th>\n",
       "      <th>confL</th>\n",
       "      <th>min</th>\n",
       "      <th>attend</th>\n",
       "      <th>arena</th>\n",
       "    </tr>\n",
       "  </thead>\n",
       "  <tbody>\n",
       "    <tr>\n",
       "      <th>0</th>\n",
       "      <td>9</td>\n",
       "      <td>WNBA</td>\n",
       "      <td>ATL</td>\n",
       "      <td>ATL</td>\n",
       "      <td>EA</td>\n",
       "      <td>NaN</td>\n",
       "      <td>7</td>\n",
       "      <td>N</td>\n",
       "      <td>0</td>\n",
       "      <td>NaN</td>\n",
       "      <td>...</td>\n",
       "      <td>34</td>\n",
       "      <td>1</td>\n",
       "      <td>16</td>\n",
       "      <td>3</td>\n",
       "      <td>14</td>\n",
       "      <td>2</td>\n",
       "      <td>18</td>\n",
       "      <td>6825</td>\n",
       "      <td>141379</td>\n",
       "      <td>Philips Arena</td>\n",
       "    </tr>\n",
       "    <tr>\n",
       "      <th>1</th>\n",
       "      <td>10</td>\n",
       "      <td>WNBA</td>\n",
       "      <td>ATL</td>\n",
       "      <td>ATL</td>\n",
       "      <td>EA</td>\n",
       "      <td>NaN</td>\n",
       "      <td>2</td>\n",
       "      <td>Y</td>\n",
       "      <td>0</td>\n",
       "      <td>L</td>\n",
       "      <td>...</td>\n",
       "      <td>34</td>\n",
       "      <td>12</td>\n",
       "      <td>5</td>\n",
       "      <td>6</td>\n",
       "      <td>11</td>\n",
       "      <td>10</td>\n",
       "      <td>12</td>\n",
       "      <td>6950</td>\n",
       "      <td>120737</td>\n",
       "      <td>Philips Arena</td>\n",
       "    </tr>\n",
       "    <tr>\n",
       "      <th>2</th>\n",
       "      <td>1</td>\n",
       "      <td>WNBA</td>\n",
       "      <td>CHA</td>\n",
       "      <td>CHA</td>\n",
       "      <td>EA</td>\n",
       "      <td>NaN</td>\n",
       "      <td>8</td>\n",
       "      <td>N</td>\n",
       "      <td>0</td>\n",
       "      <td>NaN</td>\n",
       "      <td>...</td>\n",
       "      <td>32</td>\n",
       "      <td>5</td>\n",
       "      <td>11</td>\n",
       "      <td>3</td>\n",
       "      <td>13</td>\n",
       "      <td>5</td>\n",
       "      <td>16</td>\n",
       "      <td>6475</td>\n",
       "      <td>90963</td>\n",
       "      <td>Charlotte Coliseum</td>\n",
       "    </tr>\n",
       "    <tr>\n",
       "      <th>3</th>\n",
       "      <td>2</td>\n",
       "      <td>WNBA</td>\n",
       "      <td>CHA</td>\n",
       "      <td>CHA</td>\n",
       "      <td>EA</td>\n",
       "      <td>NaN</td>\n",
       "      <td>4</td>\n",
       "      <td>Y</td>\n",
       "      <td>0</td>\n",
       "      <td>W</td>\n",
       "      <td>...</td>\n",
       "      <td>32</td>\n",
       "      <td>11</td>\n",
       "      <td>5</td>\n",
       "      <td>7</td>\n",
       "      <td>9</td>\n",
       "      <td>15</td>\n",
       "      <td>6</td>\n",
       "      <td>6500</td>\n",
       "      <td>105525</td>\n",
       "      <td>Charlotte Coliseum</td>\n",
       "    </tr>\n",
       "    <tr>\n",
       "      <th>4</th>\n",
       "      <td>3</td>\n",
       "      <td>WNBA</td>\n",
       "      <td>CHA</td>\n",
       "      <td>CHA</td>\n",
       "      <td>EA</td>\n",
       "      <td>NaN</td>\n",
       "      <td>2</td>\n",
       "      <td>Y</td>\n",
       "      <td>0</td>\n",
       "      <td>L</td>\n",
       "      <td>...</td>\n",
       "      <td>32</td>\n",
       "      <td>11</td>\n",
       "      <td>5</td>\n",
       "      <td>7</td>\n",
       "      <td>9</td>\n",
       "      <td>12</td>\n",
       "      <td>9</td>\n",
       "      <td>6450</td>\n",
       "      <td>106670</td>\n",
       "      <td>Charlotte Coliseum</td>\n",
       "    </tr>\n",
       "  </tbody>\n",
       "</table>\n",
       "<p>5 rows × 61 columns</p>\n",
       "</div>"
      ],
      "text/plain": [
       "   year  lgID tmID franchID confID  divID  rank playoff  seeded firstRound  \\\n",
       "0     9  WNBA  ATL      ATL     EA    NaN     7       N       0        NaN   \n",
       "1    10  WNBA  ATL      ATL     EA    NaN     2       Y       0          L   \n",
       "2     1  WNBA  CHA      CHA     EA    NaN     8       N       0        NaN   \n",
       "3     2  WNBA  CHA      CHA     EA    NaN     4       Y       0          W   \n",
       "4     3  WNBA  CHA      CHA     EA    NaN     2       Y       0          L   \n",
       "\n",
       "   ...  GP homeW homeL  awayW  awayL  confW  confL   min  attend  \\\n",
       "0  ...  34     1    16      3     14      2     18  6825  141379   \n",
       "1  ...  34    12     5      6     11     10     12  6950  120737   \n",
       "2  ...  32     5    11      3     13      5     16  6475   90963   \n",
       "3  ...  32    11     5      7      9     15      6  6500  105525   \n",
       "4  ...  32    11     5      7      9     12      9  6450  106670   \n",
       "\n",
       "                arena  \n",
       "0       Philips Arena  \n",
       "1       Philips Arena  \n",
       "2  Charlotte Coliseum  \n",
       "3  Charlotte Coliseum  \n",
       "4  Charlotte Coliseum  \n",
       "\n",
       "[5 rows x 61 columns]"
      ]
     },
     "execution_count": 4,
     "metadata": {},
     "output_type": "execute_result"
    }
   ],
   "source": [
    "df_teams = pd.read_csv('dataset/teams.csv')\n",
    "df_teams.head()"
   ]
  },
  {
   "cell_type": "code",
   "execution_count": null,
   "metadata": {},
   "outputs": [],
   "source": [
    "df_players = pd.read_csv('dataset/players.csv')\n",
    "df_players.head()"
   ]
  },
  {
   "cell_type": "code",
   "execution_count": null,
   "metadata": {},
   "outputs": [],
   "source": [
    "df_coaches = pd.read_csv('dataset/coaches.csv')\n",
    "df_coaches.head()"
   ]
  },
  {
   "cell_type": "code",
   "execution_count": null,
   "metadata": {},
   "outputs": [],
   "source": [
    "df_players_teams = pd.read_csv('dataset/players_teams.csv')\n",
    "df_awards_players = pd.read_csv('dataset/awards_players.csv')\n",
    "df_series_post = pd.read_csv('dataset/series_post.csv')\n",
    "df_teams_post = pd.read_csv('dataset/teams_post.csv')"
   ]
  }
 ],
 "metadata": {
  "kernelspec": {
   "display_name": "Python 3",
   "language": "python",
   "name": "python3"
  },
  "language_info": {
   "codemirror_mode": {
    "name": "ipython",
    "version": 3
   },
   "file_extension": ".py",
   "mimetype": "text/x-python",
   "name": "python",
   "nbconvert_exporter": "python",
   "pygments_lexer": "ipython3",
   "version": "3.10.6"
  }
 },
 "nbformat": 4,
 "nbformat_minor": 2
}
